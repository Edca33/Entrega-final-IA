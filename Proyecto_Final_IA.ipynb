{
 "cells": [
  {
   "cell_type": "markdown",
   "metadata": {},
   "source": [
    "# Entrega final: Ia al rescate\n",
    "\n",
    "## Introducción\n",
    "En este proyecto, abordamos la problemática de la falta de herramientas accesibles para generar contenido creativo, ya sea texto o imágenes. Utilizamos modelos de IA para generar prompts que faciliten la creatividad y solución de problemas. \n",
    "\n",
    "## Objetivos\n",
    "- Utilizar IA para resolver problemas relacionados con la generación de contenido.\n",
    "- Optimizar prompts para modelos de texto a texto y texto a imagen.\n",
    "- Implementar y evaluar soluciones basadas en IA en un entorno práctico.\n",
    "\n",
    "## Herramientas y Tecnologías\n",
    "- OpenAI GPT y DALL-E (u otras alternativas para generación de imágenes).\n",
    "- Jupyter Notebook para demostraciones interactivas.\n",
    "- Python para el desarrollo del backend y lógica del proyecto.\n"
   ]
  },
  {
   "cell_type": "code",
   "execution_count": null,
   "metadata": {},
   "outputs": [],
   "source": [
    "from ChatGPT import IAAlRescate\n",
    "\n",
    "API_KEY = \"\"\n",
    "ia_rescate = IAAlRescate(API_KEY)\n"
   ]
  },
  {
   "cell_type": "markdown",
   "metadata": {},
   "source": [
    "## Ejemplo 1: Generación de Texto a Texto\n",
    "A continuación, generamos un texto detallado en base a un prompt que simula una situación real. Por ejemplo, crear un plan de trabajo diario."
   ]
  },
  {
   "cell_type": "code",
   "execution_count": null,
   "metadata": {},
   "outputs": [],
   "source": [
    "prompt_texto = \"Diseña un horario detallado priorizando las tareas más importantes de mi día, teniendo en cuenta que trabajo 8 horas.\"\n",
    "respuesta_texto = ia_rescate.generar_respuesta_texto(prompt_texto)\n",
    "print(\"Respuesta de Texto a Texto:\\n\", respuesta_texto)"
   ]
  },
  {
   "cell_type": "markdown",
   "metadata": {},
   "source": [
    "## Modelo Utilizado para Generación de Imágenes\n",
    "\n",
    "En este ejemplo, hemos utilizado el modelo **DALL-E** de OpenAI para generar imágenes a partir de descripciones textuales. Este modelo destaca por su capacidad para interpretar prompts complejos y generar imágenes de alta calidad.\n",
    "\n",
    "#### Alternativa Considerada\n",
    "Si no tienes acceso a DALL-E, puedes utilizar herramientas alternativas como **Nightcafe**. Esta herramienta permite generar imágenes gratuitamente y es adecuada para proyectos con restricciones presupuestarias.\n",
    "\n",
    "#### Ejemplo de Prompt y Resultado:\n",
    "- **Prompt:** \"Genera una imagen de un jardín zen al atardecer, con un estanque, piedras organizadas y bambú rodeándolo.\"\n",
    "- **Resultado:** *(Incluye aquí un enlace o una captura de la imagen generada).*\n",
    "\n",
    "Este modelo o alternativas como Nightcafe son esenciales para solucionar problemas creativos de manera eficiente, alineándose con los objetivos del proyecto.\n"
   ]
  },
  {
   "cell_type": "code",
   "execution_count": null,
   "metadata": {},
   "outputs": [],
   "source": [
    "prompt_mapa_conceptual = (\n",
    "    \"Genera una imagen de un mapa conceptual que explique el proceso de generación de texto e imágenes \"\n",
    "    \"usando IA, mostrando conexiones entre las siguientes ideas: 'Prompt', 'Modelo de IA', 'Resultados', \"\n",
    "    \"'Evaluación'. Usa un diseño limpio y organizado con flechas conectando los conceptos.\"\n",
    ")\n",
    "respuesta_mapa_conceptual = ia_rescate.generar_respuesta_imagen(prompt_mapa_conceptual)\n",
    "print(\"URL de la Imagen Generada (Mapa Conceptual):\\n\", respuesta_mapa_conceptual)"
   ]
  },
  {
   "cell_type": "markdown",
   "metadata": {},
   "source": [
    "## Conclusiones\n",
    "- Los modelos de IA permiten generar contenido creativo de manera eficiente.\n",
    "- Los prompts son clave para obtener resultados relevantes y claros.\n",
    "- La implementación práctica muestra el potencial de estas tecnologías para resolver problemas cotidianos.\n"
   ]
  }
 ],
 "metadata": {
  "kernelspec": {
   "display_name": "Python 3",
   "language": "python",
   "name": "python3"
  },
  "language_info": {
   "codemirror_mode": {
    "name": "ipython",
    "version": 3
   },
   "file_extension": ".py",
   "mimetype": "text/x-python",
   "name": "python",
   "nbconvert_exporter": "python",
   "pygments_lexer": "ipython3",
   "version": "3.8.10"
  }
 },
 "nbformat": 4,
 "nbformat_minor": 4
}
